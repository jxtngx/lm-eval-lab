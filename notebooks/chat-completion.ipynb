{
 "cells": [
  {
   "cell_type": "code",
   "execution_count": 16,
   "id": "7243164c9f0575f",
   "metadata": {},
   "outputs": [],
   "source": [
    "import textwrap\n",
    "from time import perf_counter\n",
    "\n",
    "from llama_cpp import Llama"
   ]
  },
  {
   "cell_type": "code",
   "execution_count": 17,
   "id": "f2287e69",
   "metadata": {},
   "outputs": [],
   "source": [
    "models_dir = \"../.models\""
   ]
  },
  {
   "cell_type": "code",
   "execution_count": 18,
   "id": "de148610",
   "metadata": {},
   "outputs": [],
   "source": [
    "llm = Llama.from_pretrained(\n",
    "    repo_id=\"jxtngx/Meta-Llama-3.2-1B-Instruct-Q4_K_M-GGUF\",\n",
    "    filename=\"*q4_k_m.gguf\",\n",
    "    verbose=False,\n",
    "    local_dir = models_dir,\n",
    "    cache_dir = models_dir,\n",
    ")"
   ]
  },
  {
   "cell_type": "code",
   "execution_count": 19,
   "id": "171eada5",
   "metadata": {},
   "outputs": [],
   "source": [
    "t0 = perf_counter()\n",
    "response = llm.create_chat_completion(\n",
    "    messages = [\n",
    "          {\"role\": \"system\", \"content\": \"You are a helpful assistant.\"},\n",
    "          {\n",
    "              \"role\": \"user\",\n",
    "              \"content\": \"Who won the world series in 2020\"\n",
    "          }\n",
    "      ],\n",
    "    temperature=0.7\n",
    ")\n",
    "t1 = perf_counter()"
   ]
  },
  {
   "cell_type": "code",
   "execution_count": null,
   "id": "ba6e312e",
   "metadata": {},
   "outputs": [],
   "source": [
    "response"
   ]
  },
  {
   "cell_type": "code",
   "execution_count": null,
   "id": "56794ab6",
   "metadata": {},
   "outputs": [],
   "source": [
    "print(f\"\"\"\n",
    "the response took {t1 - t0} seconds\n",
    "at a rate of {round(response[\"usage\"][\"completion_tokens\"]/(t1 - t0))} tokens per second\n",
    "\"\"\")"
   ]
  },
  {
   "cell_type": "code",
   "execution_count": null,
   "id": "f4b18cff",
   "metadata": {},
   "outputs": [],
   "source": [
    "for line in textwrap.wrap(response[\"choices\"][0][\"message\"][\"content\"]):\n",
    "    print(line)"
   ]
  }
 ],
 "metadata": {
  "kernelspec": {
   "display_name": ".venv",
   "language": "python",
   "name": "python3"
  },
  "language_info": {
   "codemirror_mode": {
    "name": "ipython",
    "version": 3
   },
   "file_extension": ".py",
   "mimetype": "text/x-python",
   "name": "python",
   "nbconvert_exporter": "python",
   "pygments_lexer": "ipython3",
   "version": "3.11.5"
  }
 },
 "nbformat": 4,
 "nbformat_minor": 5
}
